{
 "cells": [
  {
   "cell_type": "markdown",
   "metadata": {},
   "source": [
    "# Chapter 2 - Pretrained Networks"
   ]
  },
  {
   "cell_type": "markdown",
   "metadata": {},
   "source": [
    "## Part III: MNIST"
   ]
  },
  {
   "cell_type": "code",
   "execution_count": 1,
   "metadata": {
    "collapsed": true
   },
   "outputs": [],
   "source": [
    "import torch\n",
    "import torch.nn as nn\n",
    "import torch.nn.functional as F\n",
    "from torchvision import datasets, transforms"
   ]
  },
  {
   "cell_type": "code",
   "execution_count": 2,
   "metadata": {},
   "outputs": [
    {
     "data": {
      "text/plain": [
       "<torch._C.Generator at 0x7fe5ce918350>"
      ]
     },
     "execution_count": 2,
     "metadata": {},
     "output_type": "execute_result"
    }
   ],
   "source": [
    "torch.manual_seed(4242)"
   ]
  },
  {
   "cell_type": "code",
   "execution_count": 3,
   "metadata": {},
   "outputs": [
    {
     "name": "stderr",
     "output_type": "stream",
     "text": [
      "\r",
      "0it [00:00, ?it/s]"
     ]
    },
    {
     "name": "stdout",
     "output_type": "stream",
     "text": [
      "Downloading http://yann.lecun.com/exdb/mnist/train-images-idx3-ubyte.gz to /Users/dongdongdongdong/Desktop/Deep-Learning-with-PyTorch/Datasets/Chapter 2/mnist/MNIST/raw/train-images-idx3-ubyte.gz\n"
     ]
    },
    {
     "name": "stderr",
     "output_type": "stream",
     "text": [
      "100%|█████████▉| 9871360/9912422 [00:10<00:00, 1141854.47it/s]"
     ]
    },
    {
     "name": "stdout",
     "output_type": "stream",
     "text": [
      "Extracting /Users/dongdongdongdong/Desktop/Deep-Learning-with-PyTorch/Datasets/Chapter 2/mnist/MNIST/raw/train-images-idx3-ubyte.gz to /Users/dongdongdongdong/Desktop/Deep-Learning-with-PyTorch/Datasets/Chapter 2/mnist/MNIST/raw\n"
     ]
    },
    {
     "name": "stderr",
     "output_type": "stream",
     "text": [
      "\n",
      "0it [00:00, ?it/s]\u001b[A"
     ]
    },
    {
     "name": "stdout",
     "output_type": "stream",
     "text": [
      "Downloading http://yann.lecun.com/exdb/mnist/train-labels-idx1-ubyte.gz to /Users/dongdongdongdong/Desktop/Deep-Learning-with-PyTorch/Datasets/Chapter 2/mnist/MNIST/raw/train-labels-idx1-ubyte.gz\n"
     ]
    },
    {
     "name": "stderr",
     "output_type": "stream",
     "text": [
      "\n",
      "  0%|          | 0/28881 [00:00<?, ?it/s]\u001b[A\n",
      " 57%|█████▋    | 16384/28881 [00:00<00:00, 79583.87it/s]\u001b[A\n",
      "32768it [00:00, 46158.62it/s]                           \u001b[A\n",
      "0it [00:00, ?it/s]\u001b[A"
     ]
    },
    {
     "name": "stdout",
     "output_type": "stream",
     "text": [
      "Extracting /Users/dongdongdongdong/Desktop/Deep-Learning-with-PyTorch/Datasets/Chapter 2/mnist/MNIST/raw/train-labels-idx1-ubyte.gz to /Users/dongdongdongdong/Desktop/Deep-Learning-with-PyTorch/Datasets/Chapter 2/mnist/MNIST/raw\n",
      "Downloading http://yann.lecun.com/exdb/mnist/t10k-images-idx3-ubyte.gz to /Users/dongdongdongdong/Desktop/Deep-Learning-with-PyTorch/Datasets/Chapter 2/mnist/MNIST/raw/t10k-images-idx3-ubyte.gz\n"
     ]
    },
    {
     "name": "stderr",
     "output_type": "stream",
     "text": [
      "\n",
      "  0%|          | 0/1648877 [00:00<?, ?it/s]\u001b[A\n",
      "  1%|          | 16384/1648877 [00:00<00:24, 67702.18it/s]\u001b[A\n",
      "  3%|▎         | 49152/1648877 [00:00<00:19, 81442.83it/s]\u001b[A\n",
      "  6%|▌         | 98304/1648877 [00:01<00:15, 101122.59it/s]\u001b[A\n",
      " 13%|█▎        | 212992/1648877 [00:01<00:10, 133868.32it/s]\u001b[A\n",
      " 26%|██▋       | 434176/1648877 [00:01<00:06, 181389.60it/s]\u001b[A\n",
      " 53%|█████▎    | 868352/1648877 [00:01<00:03, 249770.33it/s]\u001b[A\n",
      "1654784it [00:01, 925322.60it/s]                            \u001b[A\n",
      "0it [00:00, ?it/s]\u001b[A"
     ]
    },
    {
     "name": "stdout",
     "output_type": "stream",
     "text": [
      "Extracting /Users/dongdongdongdong/Desktop/Deep-Learning-with-PyTorch/Datasets/Chapter 2/mnist/MNIST/raw/t10k-images-idx3-ubyte.gz to /Users/dongdongdongdong/Desktop/Deep-Learning-with-PyTorch/Datasets/Chapter 2/mnist/MNIST/raw\n",
      "Downloading http://yann.lecun.com/exdb/mnist/t10k-labels-idx1-ubyte.gz to /Users/dongdongdongdong/Desktop/Deep-Learning-with-PyTorch/Datasets/Chapter 2/mnist/MNIST/raw/t10k-labels-idx1-ubyte.gz\n"
     ]
    },
    {
     "name": "stderr",
     "output_type": "stream",
     "text": [
      "\n",
      "  0%|          | 0/4542 [00:00<?, ?it/s]\u001b[A\n",
      "8192it [00:00, 18066.33it/s]            \u001b[A"
     ]
    },
    {
     "name": "stdout",
     "output_type": "stream",
     "text": [
      "Extracting /Users/dongdongdongdong/Desktop/Deep-Learning-with-PyTorch/Datasets/Chapter 2/mnist/MNIST/raw/t10k-labels-idx1-ubyte.gz to /Users/dongdongdongdong/Desktop/Deep-Learning-with-PyTorch/Datasets/Chapter 2/mnist/MNIST/raw\n",
      "Processing...\n",
      "Done!\n"
     ]
    },
    {
     "name": "stderr",
     "output_type": "stream",
     "text": [
      "\r",
      "9920512it [00:30, 1141854.47it/s]                             "
     ]
    }
   ],
   "source": [
    "train_loader = torch.utils.data.DataLoader(\n",
    "    datasets.MNIST('/Users/dongdongdongdong/Desktop/Deep-Learning-with-PyTorch/Datasets/Chapter 2/mnist',\n",
    "    train=True,\n",
    "    download=True,\n",
    "    transform=transforms.Compose([\n",
    "        transforms.ToTensor(),\n",
    "        transforms.Normalize((0.1307,), (0.3081,))\n",
    "    ])),\n",
    "    batch_size=64,\n",
    "    shuffle=True)"
   ]
  },
  {
   "cell_type": "code",
   "execution_count": 4,
   "metadata": {
    "collapsed": true
   },
   "outputs": [],
   "source": [
    "class Net(nn.Module):\n",
    "    \n",
    "    def __init__(self):\n",
    "        super(Net, self).__init__()\n",
    "        self.conv1 = nn.Conv2d(1, 10, kernel_size=5)\n",
    "        self.conv2 = nn.Conv2d(10, 20, kernel_size=5)\n",
    "        self.conv2_drop = nn.Dropout2d()\n",
    "        self.fc1 = nn.Linear(320, 50)\n",
    "        self.fc2 = nn.Linear(50, 10)\n",
    "        \n",
    "    def forward(self, x):\n",
    "        x = F.relu(F.max_pool2d(self.conv1(x), 2))\n",
    "        x = F.relu(F.max_pool2d(self.conv2_drop(self.conv2(x)), 2))\n",
    "        x = x.view(-1, 320)\n",
    "        x = F.relu(self.fc1(x))\n",
    "        x = F.dropout(x, training=self.training)\n",
    "        x = self.fc2(x)\n",
    "        return F.log_softmax(x, dim=1)"
   ]
  },
  {
   "cell_type": "code",
   "execution_count": 5,
   "metadata": {
    "collapsed": true
   },
   "outputs": [],
   "source": [
    "model = Net()"
   ]
  },
  {
   "cell_type": "code",
   "execution_count": 6,
   "metadata": {
    "collapsed": true
   },
   "outputs": [],
   "source": [
    "optimizer = torch.optim.SGD(model.parameters(),\n",
    "                            lr=0.01,\n",
    "                            momentum=0.9)"
   ]
  },
  {
   "cell_type": "code",
   "execution_count": 7,
   "metadata": {},
   "outputs": [
    {
     "name": "stdout",
     "output_type": "stream",
     "text": [
      "Current Loss: 0.28373953700065613\n",
      "Current Loss: 0.15023241937160492\n",
      "Current Loss: 0.3486907184123993\n",
      "Current Loss: 0.21628069877624512\n",
      "Current Loss: 0.0575980618596077\n",
      "Current Loss: 0.45795392990112305\n",
      "Current Loss: 0.05366893485188484\n",
      "Current Loss: 0.05972595885396004\n",
      "Current Loss: 0.2540072500705719\n",
      "Current Loss: 0.24165502190589905\n"
     ]
    }
   ],
   "source": [
    "for epoch in range(10):\n",
    "    for batch_idx, (data, target) in enumerate(train_loader):\n",
    "        optimizer.zero_grad()\n",
    "        output = model(data)\n",
    "        loss = F.nll_loss(output, target)\n",
    "        loss.backward()\n",
    "        optimizer.step()\n",
    "    print('Current Loss:', float(loss))"
   ]
  },
  {
   "cell_type": "code",
   "execution_count": 8,
   "metadata": {
    "collapsed": true
   },
   "outputs": [],
   "source": [
    "torch.save(model.state_dict(), '/Users/dongdongdongdong/Desktop/Deep-Learning-with-PyTorch/Datasets/Chapter 2/mnist/mnist.pth')"
   ]
  },
  {
   "cell_type": "code",
   "execution_count": 9,
   "metadata": {},
   "outputs": [
    {
     "data": {
      "text/plain": [
       "<All keys matched successfully>"
      ]
     },
     "execution_count": 9,
     "metadata": {},
     "output_type": "execute_result"
    }
   ],
   "source": [
    "pretrained_model = Net()\n",
    "%precisionnttrained_model.load_state_dict(torch.load('/Users/dongdongdongdong/Desktop/Deep-Learning-with-PyTorch/Datasets/Chapter 2/mnist/mnist.pth'))"
   ]
  }
 ],
 "metadata": {
  "kernelspec": {
   "display_name": "Python 3",
   "language": "python",
   "name": "python3"
  },
  "language_info": {
   "codemirror_mode": {
    "name": "ipython",
    "version": 3
   },
   "file_extension": ".py",
   "mimetype": "text/x-python",
   "name": "python",
   "nbconvert_exporter": "python",
   "pygments_lexer": "ipython3",
   "version": "3.6.9"
  }
 },
 "nbformat": 4,
 "nbformat_minor": 2
}
